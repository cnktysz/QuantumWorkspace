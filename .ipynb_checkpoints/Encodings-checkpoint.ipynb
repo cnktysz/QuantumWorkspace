{
 "cells": [
  {
   "cell_type": "markdown",
   "metadata": {},
   "source": [
    "Now that we now how classical FT works, we can switch to QFT. Doing operations with qubits requires embedding of the data to the qubits. There are several ways this can be done. Here, for simplicity we will use amplitude encoding to embed 4 element array into 2 qubits. \n",
    "\n",
    "When we begin an operation on a QC, all of our qubits are set to the state $|0>$. Then, we can use the Ry rotation gate to alter the state to have the coefficients we want. Let's show this with a single qubit example by embedding the array $x=[2,4]$ into a single qubit.\n",
    "\n",
    "First, we normalize the array;\n",
    "$$ x = \\frac{[2,4]}{\\sqrt{2^2 + 4^2}} = [0.45, 0.90] $$\n",
    "\n",
    "Then, we need to obtain the angle that we can use to obtain this state in the following form;\n",
    "\n",
    "$$ |x> = cos(\\theta/2)|0> + sin(\\theta/2)|1>   $$\n",
    "\n",
    "Clearly,\n",
    "\n",
    "$$ tan(\\theta/2) = \\frac{0.45}{0.90} $$\n",
    "\n",
    "Then we obtain;\n",
    "\n",
    "$$ \\theta \\simeq 0.93 $$\n"
   ]
  },
  {
   "cell_type": "code",
   "execution_count": 8,
   "metadata": {},
   "outputs": [],
   "source": [
    "import numpy as np\n",
    "from qiskit import *"
   ]
  },
  {
   "cell_type": "code",
   "execution_count": 9,
   "metadata": {},
   "outputs": [
    {
     "name": "stdout",
     "output_type": "stream",
     "text": [
      "Rotation angle is: 0.93\n"
     ]
    }
   ],
   "source": [
    "x = np.array([2,4])\n",
    "norm = np.sqrt(sum(x*x))\n",
    "x = x / norm\n",
    "theta = 2 * np.arctan(x[0]/x[1])\n",
    "print('Rotation angle is: %.2f' %theta)"
   ]
  },
  {
   "cell_type": "code",
   "execution_count": 17,
   "metadata": {},
   "outputs": [
    {
     "name": "stdout",
     "output_type": "stream",
     "text": [
      "Measured: 0, with Probability = 0.77 \n",
      "Measured: 1, with Probability = 0.23 \n"
     ]
    },
    {
     "data": {
      "image/png": "[encoded data removed]",
      "text/plain": [
       "<Figure size 233.576x144.48 with 1 Axes>"
      ]
     },
     "execution_count": 17,
     "metadata": {},
     "output_type": "execute_result"
    }
   ],
   "source": [
    "backend = Aer.get_backend('qasm_simulator')\n",
    "q = QuantumRegister(1,'x')\n",
    "c = ClassicalRegister(1,'c')\n",
    "circuit = QuantumCircuit(q, c)\n",
    "\n",
    "circuit.ry(theta,q[0])\n",
    "circuit.measure(q, c)\n",
    "shots = 100\n",
    "job = execute(circuit,backend,shots=shots)\n",
    "counts = job.result().get_counts(circuit)\n",
    "for keys in counts:\n",
    "    print('Measured: %s, with Probability = %.2f ' %(keys,counts[keys]/shots))\n",
    "circuit.draw(output='mpl')\n",
    "meas = [counts['0']/shots,counts['1']/shots]"
   ]
  },
  {
   "cell_type": "code",
   "execution_count": null,
   "metadata": {},
   "outputs": [],
   "source": []
  },
  {
   "cell_type": "code",
   "execution_count": null,
   "metadata": {},
   "outputs": [],
   "source": []
  },
  {
   "cell_type": "code",
   "execution_count": null,
   "metadata": {},
   "outputs": [],
   "source": []
  },
  {
   "cell_type": "code",
   "execution_count": null,
   "metadata": {},
   "outputs": [],
   "source": []
  },
  {
   "cell_type": "code",
   "execution_count": null,
   "metadata": {},
   "outputs": [],
   "source": []
  }
 ],
 "metadata": {
  "kernelspec": {
   "display_name": "Python (Qiskitenv",
   "language": "python",
   "name": "qiskitenv"
  },
  "language_info": {
   "codemirror_mode": {
    "name": "ipython",
    "version": 3
   },
   "file_extension": ".py",
   "mimetype": "text/x-python",
   "name": "python",
   "nbconvert_exporter": "python",
   "pygments_lexer": "ipython3",
   "version": "3.7.3"
  }
 },
 "nbformat": 4,
 "nbformat_minor": 4
}
