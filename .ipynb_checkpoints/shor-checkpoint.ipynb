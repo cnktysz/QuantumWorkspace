{
 "cells": [
  {
   "cell_type": "markdown",
   "metadata": {},
   "source": [
    "#Classical Shor's Algorithm"
   ]
  },
  {
   "cell_type": "code",
   "execution_count": 234,
   "metadata": {},
   "outputs": [],
   "source": [
    "import numpy as np\n",
    "import time\n",
    "%matplotlib inline\n",
    "import matplotlib.pyplot as plt"
   ]
  },
  {
   "cell_type": "code",
   "execution_count": 217,
   "metadata": {},
   "outputs": [],
   "source": [
    "def find_period(m,N):\n",
    "    for i in range(1,N):\n",
    "        if ((m**i)%N)==1:\n",
    "            return np.int32(i)\n",
    "def classical_shor(N):\n",
    "    while(True):\n",
    "        m = np.random.randint(2,N)\n",
    "        #print('m: %d' %m)\n",
    "        a = np.gcd(m,N)\n",
    "        if a!=1:\n",
    "            print('Primes are: %d and %d'%(a,N/a))\n",
    "            break\n",
    "        else:\n",
    "            r = find_period(m,N)\n",
    "            if r%2==1:\n",
    "                continue\n",
    "            else:\n",
    "                r_2 = np.int32(r/2)\n",
    "                a = m**(r_2)\n",
    "                if a%N==(N-1):\n",
    "                    continue\n",
    "                else:\n",
    "                    p1 = np.gcd(a+1,N)\n",
    "                    p2 = np.gcd(a-1,N)\n",
    "                    if p1==1 and p2==1:\n",
    "                        continue\n",
    "                    if p1==1:\n",
    "                        p1 = N/p2\n",
    "                    if p2==1:\n",
    "                        p2 = N/p1\n",
    "                    print('Primes are: %d and %d '%(p1,p2))\n",
    "                    break  "
   ]
  },
  {
   "cell_type": "code",
   "execution_count": 275,
   "metadata": {},
   "outputs": [
    {
     "name": "stdout",
     "output_type": "stream",
     "text": [
      "Primes are: 3 and 131\n",
      "Primes are: 131 and 17 \n",
      "Primes are: 47 and 131 \n",
      "Primes are: 131 and 89 \n",
      "Primes are: 131 and 109\n",
      "Primes are: 127 and 131\n"
     ]
    }
   ],
   "source": [
    "N_array = [3*131,17*131,47*131,89*131,109*131]\n",
    "t = []\n",
    "for N in N_array:\n",
    "    t0 = time.time()\n",
    "    classical_shor(N)\n",
    "    t.append(time.time()-t0)"
   ]
  },
  {
   "cell_type": "code",
   "execution_count": 278,
   "metadata": {},
   "outputs": [
    {
     "data": {
      "image/png": "[encoded data removed]",
      "text/plain": [
       "<Figure size 432x288 with 1 Axes>"
      ]
     },
     "metadata": {
      "needs_background": "light"
     },
     "output_type": "display_data"
    }
   ],
   "source": [
    "fig,ax = plt.subplots(1,1)\n",
    "plt.plot(N_array,t)\n",
    "plt.yscale('log')\n",
    "ax.set(xlabel='N',ylabel='time [s]');"
   ]
  },
  {
   "cell_type": "code",
   "execution_count": null,
   "metadata": {},
   "outputs": [],
   "source": []
  }
 ],
 "metadata": {
  "kernelspec": {
   "display_name": "Python (Qiskitenv",
   "language": "python",
   "name": "qiskitenv"
  },
  "language_info": {
   "codemirror_mode": {
    "name": "ipython",
    "version": 3
   },
   "file_extension": ".py",
   "mimetype": "text/x-python",
   "name": "python",
   "nbconvert_exporter": "python",
   "pygments_lexer": "ipython3",
   "version": "3.7.3"
  }
 },
 "nbformat": 4,
 "nbformat_minor": 4
}
