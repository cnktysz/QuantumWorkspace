{
 "cells": [
  {
   "cell_type": "markdown",
   "metadata": {},
   "source": [
    "#Quantum Fourier Transform.\n",
    "\n",
    "Let's start by reminding ourselves the classical Discrete Fourier Transform. DFT is given as;\n",
    "\n",
    "$$X[n] = \\sum_{k=0}^{N-1} x[k] \\cdot e^{\\frac{-i2\\pi nk}{N}}$$\n",
    "\n",
    "Where N is the size of the input sequence.\n",
    "\n",
    "$$n\\in \\{  0,1,...,N-1  \\}$$\n",
    "and similarly,\n",
    "$$k\\in \\{  0,1,...,N-1  \\}$$ \n",
    "\n",
    "Let's have a look at a simple example for the given sequence;\n",
    "\n",
    "$$x[k] = [1,1,2,1] $$"
   ]
  },
  {
   "cell_type": "code",
   "execution_count": 6,
   "metadata": {},
   "outputs": [
    {
     "name": "stdout",
     "output_type": "stream",
     "text": [
      "Input Sequence: [1. 1. 2. 1.]\n",
      "Fourier transform of the input: [5. 1. 1. 1.]\n"
     ]
    },
    {
     "data": {
      "text/plain": [
       "[Text(0, 0.5, 'X[n]'),\n",
       " Text(0.5, 0, 'n'),\n",
       " Text(0.5, 1.0, 'Fourier of the Input')]"
      ]
     },
     "execution_count": 6,
     "metadata": {},
     "output_type": "execute_result"
    },
    {
     "data": {
      "image/png": "[encoded data removed]",
      "text/plain": [
       "<Figure size 432x288 with 2 Axes>"
      ]
     },
     "metadata": {
      "needs_background": "light"
     },
     "output_type": "display_data"
    }
   ],
   "source": [
    "%matplotlib inline\n",
    "import matplotlib.pyplot as plt\n",
    "import numpy as np\n",
    "from qiskit import *\n",
    "from qiskit.tools.visualization import plot_histogram\n",
    "N = 4\n",
    "k = np.linspace(0,N-1,N)\n",
    "n = k\n",
    "x = np.array([1.,1.,2.,1.])\n",
    "f = np.zeros(N,dtype=complex)\n",
    "for i in range(N):\n",
    "    f[i] = sum(x*np.exp(-1j*2*np.pi*i*k/N))\n",
    "f = np.abs(f)\n",
    "print('Input Sequence: ' + str(x))\n",
    "print('Fourier transform of the input: ' + str(f))\n",
    "fig, (ax1,ax2) = plt.subplots(1,2)\n",
    "ax1.stem(k,x)\n",
    "ax1.set(title='Input',xlabel='k',ylabel='x[k]')\n",
    "ax2.stem(n,f)\n",
    "ax2.set(title='Fourier of the Input',xlabel='n',ylabel='X[n]')"
   ]
  },
  {
   "cell_type": "markdown",
   "metadata": {},
   "source": [
    "Now that we now how classical FT works, we can switch to QFT. Doing operations with qubits requires embedding of the data to the qubits. There are several ways this can be done. Here, for simplicity we will use amplitude encoding to embed 4 element array into 2 qubits. \n",
    "\n",
    "When we begin an operation on a QC, all of our qubits are set to the state $|0>$. Then, we can use the Ry rotation gate to alter the state to have the coefficients we want. Let's show this with a single qubit example by embedding the array $x=[2,4]$ into a single qubit.\n",
    "\n",
    "First, we normalize the array;\n",
    "$$ x = \\frac{[2,4]}{\\sqrt{2^2 + 4^2}} = [0.45, 0.90] $$\n",
    "\n",
    "Then, we need to obtain the angle that we can use to obtain this state in the following form;\n",
    "\n",
    "$$ |x> = cos(\\theta/2)|0> + sin(\\theta/2)|1>   $$\n",
    "\n",
    "Clearly,\n",
    "\n",
    "$$ tan(\\theta/2) = \\frac{0.45}{0.90} $$\n",
    "\n",
    "Then we obtain;\n",
    "\n",
    "$$ \\theta \\simeq 0.93 $$\n"
   ]
  },
  {
   "cell_type": "code",
   "execution_count": 2,
   "metadata": {},
   "outputs": [
    {
     "name": "stdout",
     "output_type": "stream",
     "text": [
      "X: [0.37796447 0.37796447 0.75592895 0.37796447]\n",
      "X^2: [0.14285714 0.14285714 0.57142857 0.14285714]\n",
      "0.9999999999999998\n",
      "1.1278852827212582 2.0137073708685356\n",
      "00: 0.20\n",
      "01: 0.08\n",
      "10: 0.51\n",
      "11: 0.20\n"
     ]
    }
   ],
   "source": [
    "norm = np.sqrt(sum(x*x))\n",
    "x = x / norm\n",
    "print('X: ' + str(x))\n",
    "print('X^2: ' + str(x**2))\n",
    "print(sum(x**2))\n",
    "\n",
    "theta1 = 2 * np.arccos(np.sqrt(x[0]**2 + x[2]**2))\n",
    "theta2 = 2 * np.arccos(np.sqrt(x[0]**2 + x[1]**2))\n",
    "\n",
    "print(theta1,theta2)\n",
    "amps = [np.cos(theta2/2)*np.cos(theta1/2),np.cos(theta2/2)*np.sin(theta1/2),np.sin(theta2/2)*np.cos(theta1/2),np.sin(theta2/2)*np.sin(theta1/2)]\n",
    "print('00: %.2f' %amps[0]**2)\n",
    "print('01: %.2f' %amps[1]**2)\n",
    "print('10: %.2f' %amps[2]**2)\n",
    "print('11: %.2f' %amps[3]**2)"
   ]
  },
  {
   "cell_type": "code",
   "execution_count": 3,
   "metadata": {},
   "outputs": [
    {
     "name": "stdout",
     "output_type": "stream",
     "text": [
      "Measured: 01, with Probability = 0.10 \n",
      "Measured: 11, with Probability = 0.20 \n",
      "Measured: 00, with Probability = 0.16 \n",
      "Measured: 10, with Probability = 0.54 \n"
     ]
    },
    {
     "data": {
      "image/png": "[encoded data removed]",
      "text/plain": [
       "<Figure size 337.12x204.68 with 1 Axes>"
      ]
     },
     "execution_count": 3,
     "metadata": {},
     "output_type": "execute_result"
    }
   ],
   "source": [
    "backend = Aer.get_backend('qasm_simulator')\n",
    "q = QuantumRegister(2,'x')\n",
    "c = ClassicalRegister(2,'c')\n",
    "circuit = QuantumCircuit(q, c)\n",
    "\n",
    "circuit.ry(theta1,q[0])\n",
    "circuit.ry(theta2,q[1])\n",
    "\n",
    "circuit.measure(q, c)\n",
    "shots = 100\n",
    "job = execute(circuit,backend,shots=shots)\n",
    "counts = job.result().get_counts(circuit)\n",
    "for keys in counts:\n",
    "    print('Measured: %s, with Probability = %.2f ' %(keys,counts[keys]/shots))\n",
    "circuit.draw(output='mpl')"
   ]
  },
  {
   "cell_type": "code",
   "execution_count": 4,
   "metadata": {},
   "outputs": [],
   "source": [
    "def qft(circ, q, n):\n",
    "    \"\"\"n-qubit QFT on q in circ.\"\"\"\n",
    "    for j in range(n):\n",
    "        circ.h(q[j])\n",
    "        for k in range(j+1,n):\n",
    "            circ.cu1(np.pi/float(2**(k-j)), q[k], q[j])\n",
    "        circ.barrier()"
   ]
  },
  {
   "cell_type": "code",
   "execution_count": 5,
   "metadata": {},
   "outputs": [
    {
     "name": "stdout",
     "output_type": "stream",
     "text": [
      "Measured: 01, with Probability = 0.027 \n",
      "Measured: 11, with Probability = 0.027 \n",
      "Measured: 00, with Probability = 0.886 \n",
      "Measured: 10, with Probability = 0.060 \n"
     ]
    }
   ],
   "source": [
    "backend = Aer.get_backend('qasm_simulator')\n",
    "q = QuantumRegister(2,'x')\n",
    "c = ClassicalRegister(2,'c')\n",
    "circuit = QuantumCircuit(q, c)\n",
    "\n",
    "circuit.ry(theta1,q[0])\n",
    "circuit.ry(theta2,q[1])\n",
    "\n",
    "circuit.h(q[0])\n",
    "circuit.cu1(np.pi/2,q[1],q[0]) #(controlled 1 0 0 e^jtheta)\n",
    "circuit.h(q[1])\n",
    "\n",
    "circuit.measure(q, c)\n",
    "shots = 1000\n",
    "job = execute(circuit,backend,shots=shots)\n",
    "counts = job.result().get_counts(circuit)\n",
    "for keys in counts:\n",
    "    print('Measured: %s, with Probability = %.3f ' %(keys,counts[keys]/shots))"
   ]
  },
  {
   "cell_type": "code",
   "execution_count": 6,
   "metadata": {},
   "outputs": [
    {
     "data": {
      "image/png": "[encoded data removed]",
      "text/plain": [
       "<Figure size 504x360 with 1 Axes>"
      ]
     },
     "execution_count": 6,
     "metadata": {},
     "output_type": "execute_result"
    }
   ],
   "source": [
    "plot_histogram(counts)"
   ]
  },
  {
   "cell_type": "code",
   "execution_count": 7,
   "metadata": {},
   "outputs": [
    {
     "data": {
      "image/png": "[encoded data removed]",
      "text/plain": [
       "<Figure size 517.72x204.68 with 1 Axes>"
      ]
     },
     "execution_count": 7,
     "metadata": {},
     "output_type": "execute_result"
    }
   ],
   "source": [
    "circuit.draw(output='mpl')"
   ]
  },
  {
   "cell_type": "code",
   "execution_count": null,
   "metadata": {},
   "outputs": [],
   "source": []
  },
  {
   "cell_type": "code",
   "execution_count": null,
   "metadata": {},
   "outputs": [],
   "source": []
  },
  {
   "cell_type": "code",
   "execution_count": null,
   "metadata": {},
   "outputs": [],
   "source": []
  },
  {
   "cell_type": "code",
   "execution_count": null,
   "metadata": {},
   "outputs": [],
   "source": []
  },
  {
   "cell_type": "code",
   "execution_count": null,
   "metadata": {},
   "outputs": [],
   "source": []
  }
 ],
 "metadata": {
  "kernelspec": {
   "display_name": "Python (Qiskitenv",
   "language": "python",
   "name": "qiskitenv"
  },
  "language_info": {
   "codemirror_mode": {
    "name": "ipython",
    "version": 3
   },
   "file_extension": ".py",
   "mimetype": "text/x-python",
   "name": "python",
   "nbconvert_exporter": "python",
   "pygments_lexer": "ipython3",
   "version": "3.7.3"
  }
 },
 "nbformat": 4,
 "nbformat_minor": 2
}
