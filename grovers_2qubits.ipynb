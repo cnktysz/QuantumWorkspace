{
 "cells": [
  {
   "cell_type": "markdown",
   "metadata": {},
   "source": [
    "# Grover's Search Algorithm"
   ]
  },
  {
   "cell_type": "markdown",
   "metadata": {},
   "source": []
  },
  {
   "cell_type": "markdown",
   "metadata": {},
   "source": [
    "<div style=\"color:#777777;background-color:#ffffff;font-size:12px;text-align:right;\">\n",
    "</div>\n",
    "$ \\newcommand{\\bra}[1]{\\langle #1|} $\n",
    "$ \\newcommand{\\ket}[1]{|#1\\rangle} $\n",
    "$ \\newcommand{\\braket}[2]{\\langle #1|#2\\rangle} $\n",
    "$ \\newcommand{\\inner}[2]{\\langle #1,#2\\rangle} $\n",
    "$ \\newcommand{\\biginner}[2]{\\left\\langle #1,#2\\right\\rangle} $\n",
    "$ \\newcommand{\\mymatrix}[2]{\\left( \\begin{array}{#1} #2\\end{array} \\right)} $\n",
    "$ \\newcommand{\\myvector}[1]{\\mymatrix{c}{#1}} $\n",
    "$ \\newcommand{\\myrvector}[1]{\\mymatrix{r}{#1}} $\n",
    "$ \\newcommand{\\mypar}[1]{\\left( #1 \\right)} $\n",
    "$ \\newcommand{\\mybigpar}[1]{ \\Big( #1 \\Big)} $\n",
    "$ \\newcommand{\\sqrttwo}{\\frac{1}{\\sqrt{2}}} $\n",
    "$ \\newcommand{\\dsqrttwo}{\\dfrac{1}{\\sqrt{2}}} $\n",
    "$ \\newcommand{\\onehalf}{\\frac{1}{2}} $\n",
    "$ \\newcommand{\\donehalf}{\\dfrac{1}{2}} $\n",
    "$ \\newcommand{\\hadamard}{ \\mymatrix{rr}{ \\sqrttwo & \\sqrttwo \\\\ \\sqrttwo & -\\sqrttwo }} $\n",
    "$ \\newcommand{\\vzero}{\\myvector{1\\\\0}} $\n",
    "$ \\newcommand{\\vone}{\\myvector{0\\\\1}} $\n",
    "$ \\newcommand{\\vhadamardzero}{\\myvector{ \\sqrttwo \\\\  \\sqrttwo } } $\n",
    "$ \\newcommand{\\vhadamardone}{ \\myrvector{ \\sqrttwo \\\\ -\\sqrttwo } } $\n",
    "$ \\newcommand{\\myarray}[2]{ \\begin{array}{#1}#2\\end{array}} $\n",
    "$ \\newcommand{\\X}{ \\mymatrix{cc}{0 & 1 \\\\ 1 & 0}  } $\n",
    "$ \\newcommand{\\Z}{ \\mymatrix{rr}{1 & 0 \\\\ 0 & -1}  } $\n",
    "$ \\newcommand{\\Htwo}{ \\mymatrix{rrrr}{ \\frac{1}{2} & \\frac{1}{2} & \\frac{1}{2} & \\frac{1}{2} \\\\ \\frac{1}{2} & -\\frac{1}{2} & \\frac{1}{2} & -\\frac{1}{2} \\\\ \\frac{1}{2} & \\frac{1}{2} & -\\frac{1}{2} & -\\frac{1}{2} \\\\ \\frac{1}{2} & -\\frac{1}{2} & -\\frac{1}{2} & \\frac{1}{2} } } $\n",
    "$ \\newcommand{\\CNOT}{ \\mymatrix{cccc}{1 & 0 & 0 & 0 \\\\ 0 & 1 & 0 & 0 \\\\ 0 & 0 & 0 & 1 \\\\ 0 & 0 & 1 & 0} } $\n",
    "$ \\newcommand{\\norm}[1]{ \\left\\lVert #1 \\right\\rVert } $\n",
    "\n",
    "We will search a number among N numbers. First let's start by limiting our space to $N=2^n$ for simplicity. We will define an oracle function which returns 1, only when the input is the hidden number $(x^*)$ that we are looking for. \n",
    "\n",
    "$$\n",
    "f(x) = \\left\\{\n",
    "  \\begin{array}{}\n",
    "    1 & : x = x^*\\\\\n",
    "    0 & : o.w.\n",
    "  \\end{array}\n",
    "\\right.\n",
    "$$\n",
    "\n",
    "To implement the function with a quantum circuit we will need an ancilla qubit where |x> is the index qubit and |q> is the ancilla qubit.\n",
    "\n",
    "$$\n",
    "\\ket{x} \\otimes\\ket{q} \\xrightarrow[U_{oracle}]{ } \\ket{x} \\otimes\\ket{q \\oplus f(x)}\n",
    "$$\n",
    "\n",
    "If we start with setting the ancilla qubit to $\\ket{1}$, then apply a hadamard. Now if we apply the oracle transformation to the circuit we obtain the state as;\n",
    "\n",
    "$$\n",
    "\\ket{x} \\otimes\\ket{0} \\xrightarrow[\\mathbb{1} \\otimes X]{ } \\ket{x} \\otimes\\ket{1} \\xrightarrow[\\mathbb{1} \\otimes H]{ } \\ket{x} \\otimes \\frac{\\ket{0} - \\ket{1}}{\\sqrt{2}} \\xrightarrow[U_{oracle}]{ } (-1)^{f(x)} \\ket{x} \\otimes \\frac{\\ket{0} - \\ket{1}}{\\sqrt{2}}\n",
    "$$\n",
    "\n",
    "This way, we can say that the oracle marks the state that we are searching by inverting its phase. Grover's search gives us the solution when we apply the oracle function $O(\\sqrt{N/M})$ times, where N is the size of the search space and M is the amount of solutions.\n",
    "\n",
    "Before we dive into the algorithm, let's have a look at what the oracle function does in detail."
   ]
  },
  {
   "cell_type": "code",
   "execution_count": 8,
   "metadata": {},
   "outputs": [],
   "source": [
    "from qiskit import *"
   ]
  },
  {
   "cell_type": "code",
   "execution_count": 51,
   "metadata": {},
   "outputs": [],
   "source": [
    "import numpy as np\n",
    "from math import floor"
   ]
  },
  {
   "cell_type": "code",
   "execution_count": 57,
   "metadata": {},
   "outputs": [],
   "source": [
    "backend = Aer.get_backend('qasm_simulator')\n",
    "q = QuantumRegister(2)\n",
    "c = ClassicalRegister(1)\n",
    "circuit = QuantumCircuit(q, c)"
   ]
  },
  {
   "cell_type": "code",
   "execution_count": 58,
   "metadata": {},
   "outputs": [
    {
     "name": "stdout",
     "output_type": "stream",
     "text": [
      "{'1': 100}\n"
     ]
    }
   ],
   "source": [
    "# First, prepare the ancilla\n",
    "circuit.h(q[0])\n",
    "circuit.x(q[1])\n",
    "circuit.h(q[1])\n",
    "# Now we apply the Oracle | Our oracle is f(x) = x, which means we are searching x=1.\n",
    "\n",
    "######\n",
    "N = 2\n",
    "M = 1\n",
    "theta = 0\n",
    "circuit.cx(q[0],q[1])\n",
    "circuit.h(q[0])\n",
    "   \n",
    "circuit.measure(q[0], c[0])\n",
    "job = execute(circuit,backend,shots=100)\n",
    "counts = job.result().get_counts(circuit)\n",
    "print(counts) "
   ]
  },
  {
   "cell_type": "code",
   "execution_count": null,
   "metadata": {},
   "outputs": [],
   "source": []
  },
  {
   "cell_type": "code",
   "execution_count": null,
   "metadata": {},
   "outputs": [],
   "source": []
  }
 ],
 "metadata": {
  "kernelspec": {
   "display_name": "Python 3",
   "language": "python",
   "name": "python3"
  },
  "language_info": {
   "codemirror_mode": {
    "name": "ipython",
    "version": 3
   },
   "file_extension": ".py",
   "mimetype": "text/x-python",
   "name": "python",
   "nbconvert_exporter": "python",
   "pygments_lexer": "ipython3",
   "version": "3.7.3"
  }
 },
 "nbformat": 4,
 "nbformat_minor": 2
}
